{
 "cells": [
  {
   "cell_type": "markdown",
   "metadata": {},
   "source": [
    "### Fixed hyperparameter"
   ]
  },
  {
   "cell_type": "code",
   "execution_count": 1,
   "metadata": {},
   "outputs": [],
   "source": [
    "import joblib\n",
    "from qmplot import qqplot\n",
    "import matplotlib.pyplot as plt"
   ]
  },
  {
   "cell_type": "code",
   "execution_count": 2,
   "metadata": {},
   "outputs": [],
   "source": [
    "def read_pval(path):\n",
    "    pvals = []\n",
    "    with open(path, 'rb') as f:\n",
    "        data = joblib.load(f)\n",
    "        for j, d in enumerate(data):\n",
    "            if d[0] == None:\n",
    "                continue\n",
    "            pvals.append(d[0])\n",
    "    return pvals"
   ]
  },
  {
   "cell_type": "code",
   "execution_count": 3,
   "metadata": {},
   "outputs": [],
   "source": [
    "path='./sim.pheno_w100000_D50.pkl'\n",
    "pvals = read_pval(path)\n"
   ]
  },
  {
   "cell_type": "code",
   "execution_count": 6,
   "metadata": {},
   "outputs": [
    {
     "data": {
      "text/plain": [
       "<matplotlib.axes._subplots.AxesSubplot at 0x7faf3e406a30>"
      ]
     },
     "execution_count": 6,
     "metadata": {},
     "output_type": "execute_result"
    }
   ],
   "source": [
    "f, ax = plt.subplots(figsize=(6, 6), facecolor=\"w\", edgecolor=\"k\")\n",
    "qqplot(data=pvals,\n",
    "           marker=\"o\",\n",
    "           title=\"Test\",\n",
    "           xlabel=r\"Expected $-log_{10}{(P)}$\",\n",
    "           ylabel=r\"Observed $-log_{10}{(P)}$\",\n",
    "           dpi=300,\n",
    "           figname=\"output_QQ_plot.png\",\n",
    "           ax=ax)"
   ]
  },
  {
   "cell_type": "code",
   "execution_count": 7,
   "metadata": {},
   "outputs": [
    {
     "data": {
      "text/plain": [
       "[0.004905014482982195,\n",
       " 0.9534831638714099,\n",
       " 0.4161647830493471,\n",
       " 0.16487523559260697,\n",
       " 0.6185518537550191,\n",
       " 0.1737898746413411,\n",
       " 0.5015560182921923,\n",
       " 0.8341739985621871,\n",
       " 0.11087255665427764,\n",
       " 0.17680139382793159,\n",
       " 0.33376619494896465,\n",
       " 0.8025220906580195,\n",
       " 0.9483579926966736,\n",
       " 0.7021938940646609,\n",
       " 0.3801957645596177,\n",
       " 0.6120719014752172,\n",
       " 0.3791961892017863,\n",
       " 0.8412046822172331,\n",
       " 0.8818206250730087,\n",
       " 0.6689719515537672,\n",
       " 0.050965467095744565,\n",
       " 0.2005737494733678,\n",
       " 0.45340682329264703,\n",
       " 0.16802800108611493,\n",
       " 0.8811551092999685,\n",
       " 0.34239635086777276,\n",
       " 0.309274581069362,\n",
       " 0.3952302616403397,\n",
       " 0.3536748934058991,\n",
       " 0.47206431286837036,\n",
       " 0.5301932701742191,\n",
       " 0.1371915236774035,\n",
       " 0.21902927007083905,\n",
       " 0.7094002116846401,\n",
       " 0.007372766556226207,\n",
       " 0.640940759124101,\n",
       " 0.8712439765772845,\n",
       " 0.38061759734577816,\n",
       " 0.6380194961768983]"
      ]
     },
     "execution_count": 7,
     "metadata": {},
     "output_type": "execute_result"
    }
   ],
   "source": [
    "pvals"
   ]
  },
  {
   "cell_type": "code",
   "execution_count": null,
   "metadata": {},
   "outputs": [],
   "source": []
  }
 ],
 "metadata": {
  "kernelspec": {
   "display_name": "Python 3",
   "language": "python",
   "name": "python3"
  },
  "language_info": {
   "codemirror_mode": {
    "name": "ipython",
    "version": 3
   },
   "file_extension": ".py",
   "mimetype": "text/x-python",
   "name": "python",
   "nbconvert_exporter": "python",
   "pygments_lexer": "ipython3",
   "version": "3.8.3"
  }
 },
 "nbformat": 4,
 "nbformat_minor": 4
}
