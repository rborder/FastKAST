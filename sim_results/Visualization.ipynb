{
 "cells": [
  {
   "cell_type": "markdown",
   "metadata": {},
   "source": [
    "### Fixed hyperparameter"
   ]
  },
  {
   "cell_type": "code",
   "execution_count": 1,
   "metadata": {},
   "outputs": [],
   "source": [
    "import joblib\n",
    "from qmplot import qqplot\n",
    "import matplotlib.pyplot as plt"
   ]
  },
  {
   "cell_type": "code",
   "execution_count": 2,
   "metadata": {},
   "outputs": [],
   "source": [
    "def read_pval(path):\n",
    "    pvals = []\n",
    "    with open(path, 'rb') as f:\n",
    "        data = joblib.load(f)\n",
    "        for j, d in enumerate(data):\n",
    "            if d[0] == None:\n",
    "                continue\n",
    "            pvals.append(d[0])\n",
    "    return pvals"
   ]
  },
  {
   "cell_type": "code",
   "execution_count": 3,
   "metadata": {},
   "outputs": [],
   "source": [
    "path='./sim.pheno_w100000_D50.pkl'\n",
    "pvals = read_pval(path)\n"
   ]
  },
  {
   "cell_type": "code",
   "execution_count": 4,
   "metadata": {},
   "outputs": [
    {
     "data": {
      "text/plain": [
       "<matplotlib.axes._subplots.AxesSubplot at 0x7f96653edbe0>"
      ]
     },
     "execution_count": 4,
     "metadata": {},
     "output_type": "execute_result"
    }
   ],
   "source": [
    "f, ax = plt.subplots(figsize=(6, 6), facecolor=\"w\", edgecolor=\"k\")\n",
    "qqplot(data=pvals,\n",
    "           marker=\"o\",\n",
    "           title=\"Test\",\n",
    "           xlabel=r\"Expected $-log_{10}{(P)}$\",\n",
    "           ylabel=r\"Observed $-log_{10}{(P)}$\",\n",
    "           dpi=300,\n",
    "           figname=\"output_QQ_plot.png\",\n",
    "           ax=ax)"
   ]
  },
  {
   "cell_type": "code",
   "execution_count": null,
   "metadata": {},
   "outputs": [],
   "source": []
  }
 ],
 "metadata": {
  "kernelspec": {
   "display_name": "Python 3",
   "language": "python",
   "name": "python3"
  },
  "language_info": {
   "codemirror_mode": {
    "name": "ipython",
    "version": 3
   },
   "file_extension": ".py",
   "mimetype": "text/x-python",
   "name": "python",
   "nbconvert_exporter": "python",
   "pygments_lexer": "ipython3",
   "version": "3.8.3"
  }
 },
 "nbformat": 4,
 "nbformat_minor": 4
}
